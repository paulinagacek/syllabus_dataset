{
 "cells": [
  {
   "cell_type": "code",
   "execution_count": null,
   "metadata": {},
   "outputs": [
    {
     "name": "stdout",
     "output_type": "stream",
     "text": [
      "Precision: 0.74\n",
      "Recall: 0.72\n",
      "F1 Score: 0.72\n",
      "Precision@O: 0.76\n",
      "Recall@O: 0.71\n",
      "F1@O Score: 0.73\n"
     ]
    }
   ],
   "source": [
    "from extractors.KeyExtract import KeyExtractor\n",
    "from evaluation.evaluation import evaluate_concepts, read_json_from_file\n",
    "\n",
    "json_data = read_json_from_file(\"NER_prerequisites.json\")\n",
    "extractor = KeyExtractor()\n",
    "evaluation_data = []\n",
    "for item in json_data:\n",
    "    prerequisite_text = item.get('prerequisite_text', '')\n",
    "    gt_concepts = item.get('concepts', [])\n",
    "    extracted_concepts = extractor.extractKeyWords(prerequisite_text)\n",
    "    evaluation_data.append((gt_concepts, extracted_concepts))\n",
    "evaluate_concepts(\"\", evaluation_data, threshold=0.99)"
   ]
  },
  {
   "cell_type": "code",
   "execution_count": 4,
   "metadata": {},
   "outputs": [
    {
     "name": "stdout",
     "output_type": "stream",
     "text": [
      "### Position Rank\n",
      "Precision: 0.52\n",
      "Recall: 0.68\n",
      "F1 Score: 0.59\n",
      "Precision@O: 0.55\n",
      "Recall@O: 0.55\n",
      "F1@O Score: 0.55\n",
      "\n",
      "\n",
      "### YAKE\n",
      "Precision: 0.47\n",
      "Recall: 0.64\n",
      "F1 Score: 0.54\n",
      "Precision@O: 0.54\n",
      "Recall@O: 0.54\n",
      "F1@O Score: 0.54\n",
      "\n",
      "\n",
      "### Key BERT\n",
      "Precision: 0.39\n",
      "Recall: 0.51\n",
      "F1 Score: 0.44\n",
      "Precision@O: 0.40\n",
      "Recall@O: 0.40\n",
      "F1@O Score: 0.40\n",
      "\n",
      "\n",
      "### RAKE\n",
      "Precision: 0.44\n",
      "Recall: 0.58\n",
      "F1 Score: 0.49\n",
      "Precision@O: 0.46\n",
      "Recall@O: 0.46\n",
      "F1@O Score: 0.46\n",
      "\n",
      "\n",
      "### TextRank\n",
      "Precision: 0.53\n",
      "Recall: 0.70\n",
      "F1 Score: 0.60\n",
      "Precision@O: 0.56\n",
      "Recall@O: 0.55\n",
      "F1@O Score: 0.56\n",
      "\n",
      "\n"
     ]
    }
   ],
   "source": [
    "from extractors.extractors import extractors\n",
    "from evaluation.evaluation import evaluate_concepts, read_json_from_file\n",
    "\n",
    "json_data = read_json_from_file(\"NER_prerequisites.json\")\n",
    "for name, extractor in extractors.items():\n",
    "    evaluation_data = []\n",
    "    for item in json_data:\n",
    "        prerequisite_text = item.get('prerequisite_text', '')\n",
    "        gt_concepts = item.get('concepts', [])\n",
    "        extracted_concepts = extractor.extractKeyWords(prerequisite_text, int(len(gt_concepts)*1.5))\n",
    "        evaluation_data.append((gt_concepts, extracted_concepts))\n",
    "    evaluate_concepts(name, evaluation_data, threshold=0.99)"
   ]
  }
 ],
 "metadata": {
  "kernelspec": {
   "display_name": ".venv",
   "language": "python",
   "name": "python3"
  },
  "language_info": {
   "codemirror_mode": {
    "name": "ipython",
    "version": 3
   },
   "file_extension": ".py",
   "mimetype": "text/x-python",
   "name": "python",
   "nbconvert_exporter": "python",
   "pygments_lexer": "ipython3",
   "version": "3.10.12"
  }
 },
 "nbformat": 4,
 "nbformat_minor": 2
}
